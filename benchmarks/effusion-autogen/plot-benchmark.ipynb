{
 "cells": [
  {
   "cell_type": "markdown",
   "metadata": {},
   "source": [
    "# Benchmark Plots\n",
    "\n",
    "We have generated a benchmark of problems based on the plural effusion problem and simply randomly generating the start and goal configurations.  Now we want to make some plots and statistics to better understand the span of the configuration space and the difficulty of the benchmark we have created.\n",
    "\n",
    "There are three categories of benchmark problems:\n",
    "\n",
    "1. **trivial**: these problems are solvable using a straight line in configuration space\n",
    "2. **unsolved**: given either 20 minutes or 2 minutes, RRTConnect could not solve the problem, so marked as unsolvable (which may be wrong).\n",
    "3. **solved**: solved using RRTConnect within the 2 minute timer."
   ]
  },
  {
   "cell_type": "code",
   "execution_count": null,
   "metadata": {},
   "outputs": [],
   "source": [
    "from matplotlib import pyplot as plt\n",
    "import pandas as pd"
   ]
  },
  {
   "cell_type": "markdown",
   "metadata": {},
   "source": [
    "First thing is to load the data and categorize them into the three separate types as well as remove the `tasks/` prefix for the file path."
   ]
  },
  {
   "cell_type": "code",
   "execution_count": null,
   "metadata": {},
   "outputs": [],
   "source": [
    "data = pd.read_csv('log.csv')\n",
    "data.head()"
   ]
  },
  {
   "cell_type": "markdown",
   "metadata": {},
   "source": [
    "## Bar Chart of Type\n",
    "\n",
    "We want to see the distribution of types with the random sampling that was done in this plural effusion space."
   ]
  },
  {
   "cell_type": "code",
   "execution_count": null,
   "metadata": {},
   "outputs": [],
   "source": [
    "types = sorted(data['type'].unique())\n",
    "type_map = {key: data[data['type'] == key] for key in types}"
   ]
  },
  {
   "cell_type": "code",
   "execution_count": null,
   "metadata": {},
   "outputs": [],
   "source": [
    "fig, ax = plt.subplots(figsize=(8, 4))\n",
    "ax.bar(types, [len(type_map[k]) for k in types])\n",
    "ax.set_ylabel('#')\n",
    "ax.set_title('Distribution of types of paths')\n",
    "plt.show()"
   ]
  },
  {
   "cell_type": "markdown",
   "metadata": {},
   "source": [
    "## Simple Statistics\n",
    "\n",
    "Let's generate a few statistics to give us an idea of each category.  Now the statistics for timing of the unsolved are not very interesting since the times are simply the timeout value used."
   ]
  },
  {
   "cell_type": "code",
   "execution_count": null,
   "metadata": {},
   "outputs": [],
   "source": [
    "def gen_stats(times):\n",
    "    print('  #:      ', len(times))\n",
    "    print('  min:    ', times.min())\n",
    "    print('  mean:   ', times.mean())\n",
    "    print('  median: ', times.median())\n",
    "    print('  max:    ', times.max())"
   ]
  },
  {
   "cell_type": "code",
   "execution_count": null,
   "metadata": {},
   "outputs": [],
   "source": [
    "for t in types:\n",
    "    print(t)\n",
    "    gen_stats(type_map[t]['time'])\n",
    "    print()"
   ]
  },
  {
   "cell_type": "markdown",
   "metadata": {},
   "source": [
    "Our goal with motion planning is that we can get the planning time below 0.05 seconds to be real-time for a teleoperation task (i.e. 20 Hz).\n",
    "\n",
    "We immediately see that even the planning in a straight line is largely above that threshold.  So we have a lot of improvements to do."
   ]
  },
  {
   "cell_type": "markdown",
   "metadata": {},
   "source": [
    "## Trivial solve time"
   ]
  },
  {
   "cell_type": "code",
   "execution_count": null,
   "metadata": {},
   "outputs": [],
   "source": [
    "times = type_map['trivial']['time']\n",
    "fig, ax = plt.subplots(figsize=(8, 4))\n",
    "ax.hist(times, 20)\n",
    "ax.set_xlabel('time')\n",
    "ax.set_ylabel('#')\n",
    "ax.set_title('Trivial solve time histogram')\n",
    "plt.show()"
   ]
  },
  {
   "cell_type": "code",
   "execution_count": null,
   "metadata": {},
   "outputs": [],
   "source": [
    "fig, ax = plt.subplots(figsize=(8, 4))\n",
    "ax.hist(times, len(times), density=True, cumulative=True) #histtype='step', \n",
    "ax.set_xlabel('time')\n",
    "ax.set_ylabel('#')\n",
    "ax.set_title('Trivial solve time CDF')\n",
    "plt.show()"
   ]
  },
  {
   "cell_type": "markdown",
   "metadata": {},
   "source": [
    "## Solved times"
   ]
  },
  {
   "cell_type": "code",
   "execution_count": null,
   "metadata": {},
   "outputs": [],
   "source": [
    "times = type_map['solved']['time']\n",
    "fig, ax = plt.subplots(figsize=(8, 4))\n",
    "ax.hist(times, 40)\n",
    "ax.set_xlabel('time')\n",
    "ax.set_ylabel('#')\n",
    "ax.set_title('Solved time histogram')\n",
    "plt.show()"
   ]
  },
  {
   "cell_type": "code",
   "execution_count": null,
   "metadata": {
    "scrolled": true
   },
   "outputs": [],
   "source": [
    "fig, ax = plt.subplots(figsize=(8, 4))\n",
    "ax.hist(times, len(times), density=True, cumulative=True)\n",
    "ax.set_xlabel('time')\n",
    "ax.set_ylabel('#')\n",
    "ax.set_title('Solved time CDF')\n",
    "plt.show()"
   ]
  },
  {
   "cell_type": "markdown",
   "metadata": {},
   "source": [
    "## Tip Position Distance vs Time"
   ]
  },
  {
   "cell_type": "code",
   "execution_count": null,
   "metadata": {},
   "outputs": [],
   "source": [
    "df = type_map['trivial']\n",
    "fig, ax = plt.subplots(figsize=(8, 4))\n",
    "ax.scatter(df['tip-distance'], df['time'])\n",
    "ax.set_xlabel('tip-distance (m)')\n",
    "ax.set_ylabel('time (s)')\n",
    "ax.set_title('Trivially solved tip distance vs time')\n",
    "plt.show()"
   ]
  },
  {
   "cell_type": "code",
   "execution_count": null,
   "metadata": {
    "scrolled": true
   },
   "outputs": [],
   "source": [
    "df = type_map['solved']\n",
    "fig, ax = plt.subplots(figsize=(8, 4))\n",
    "ax.scatter(df['tip-distance'], df['time'])\n",
    "ax.set_xlabel('tip-distance (m)')\n",
    "ax.set_ylabel('time (s)')\n",
    "ax.set_title('RRTConnect solved tip distance vs time')\n",
    "plt.show()"
   ]
  },
  {
   "cell_type": "code",
   "execution_count": null,
   "metadata": {},
   "outputs": [],
   "source": [
    "df = type_map['trivial']\n",
    "x = df['tip-distance']\n",
    "fig, ax = plt.subplots(figsize=(8, 4))\n",
    "ax.hist(x, len(x), density=True, cumulative=True)\n",
    "ax.set_xlabel('tip position distance (m)')\n",
    "ax.set_ylabel('#')\n",
    "ax.set_title('Trivially solved tip position distance CDF')\n",
    "plt.show()"
   ]
  },
  {
   "cell_type": "code",
   "execution_count": null,
   "metadata": {},
   "outputs": [],
   "source": [
    "df = type_map['solved']\n",
    "x = df['tip-distance']\n",
    "fig, ax = plt.subplots(figsize=(8, 4))\n",
    "ax.hist(x, len(x), density=True, cumulative=True)\n",
    "ax.set_xlabel('tip position distance (m)')\n",
    "ax.set_ylabel('#')\n",
    "ax.set_title('RRTConnect solved tip position distance CDF')\n",
    "plt.show()"
   ]
  },
  {
   "cell_type": "markdown",
   "metadata": {},
   "source": [
    "## Config Distance vs Time"
   ]
  },
  {
   "cell_type": "code",
   "execution_count": null,
   "metadata": {},
   "outputs": [],
   "source": [
    "df = type_map['trivial']\n",
    "fig, ax = plt.subplots(figsize=(8, 4))\n",
    "ax.scatter(df['config-distance'], df['time'])\n",
    "ax.set_xlabel('config-distance (Nm)')\n",
    "ax.set_ylabel('time (s)')\n",
    "ax.set_title('Trivially solved config distance vs time')\n",
    "plt.show()"
   ]
  },
  {
   "cell_type": "code",
   "execution_count": null,
   "metadata": {
    "scrolled": true
   },
   "outputs": [],
   "source": [
    "df = type_map['solved']\n",
    "fig, ax = plt.subplots(figsize=(8, 4))\n",
    "ax.scatter(df['config-distance'], df['time'])\n",
    "ax.set_xlabel('config-distance (Nm)')\n",
    "ax.set_ylabel('time (s)')\n",
    "ax.set_title('RRTConnect solved config distance vs time')\n",
    "plt.show()"
   ]
  },
  {
   "cell_type": "code",
   "execution_count": null,
   "metadata": {},
   "outputs": [],
   "source": [
    "df = type_map['trivial']\n",
    "x = df['config-distance']\n",
    "fig, ax = plt.subplots(figsize=(8, 4))\n",
    "ax.hist(x, len(x), density=True, cumulative=True)\n",
    "ax.set_xlabel('config distance (Nm)')\n",
    "ax.set_ylabel('#')\n",
    "ax.set_title('Trivially solved config distance CDF')\n",
    "plt.show()"
   ]
  },
  {
   "cell_type": "code",
   "execution_count": null,
   "metadata": {},
   "outputs": [],
   "source": [
    "df = type_map['solved']\n",
    "x = df['config-distance']\n",
    "fig, ax = plt.subplots(figsize=(8, 4))\n",
    "ax.hist(x, len(x), density=True, cumulative=True)\n",
    "ax.set_xlabel('config distance (Nm)')\n",
    "ax.set_ylabel('#')\n",
    "ax.set_title('RRTConnect solve config distance CDF')\n",
    "plt.show()"
   ]
  },
  {
   "cell_type": "markdown",
   "metadata": {},
   "source": [
    "## Tip Distance and Config Distance for Unsolved"
   ]
  },
  {
   "cell_type": "code",
   "execution_count": null,
   "metadata": {},
   "outputs": [],
   "source": [
    "df = type_map['unsolved']\n",
    "fig, ax = plt.subplots(figsize=(8, 4))\n",
    "ax.hist(df['tip-distance'], 40)\n",
    "ax.set_xlabel('tip position distance (m)')\n",
    "ax.set_ylabel('#')\n",
    "ax.set_title('Unsolved tip distance histogram')\n",
    "plt.show()"
   ]
  },
  {
   "cell_type": "code",
   "execution_count": null,
   "metadata": {},
   "outputs": [],
   "source": [
    "df = type_map['unsolved']\n",
    "x = df['tip-distance']\n",
    "fig, ax = plt.subplots(figsize=(8, 4))\n",
    "ax.hist(x, len(x), density=True, cumulative=True)\n",
    "ax.set_xlabel('tip position distance (m)')\n",
    "ax.set_ylabel('#')\n",
    "ax.set_title('Unsolved tip position distance CDF')\n",
    "plt.show()"
   ]
  },
  {
   "cell_type": "code",
   "execution_count": null,
   "metadata": {},
   "outputs": [],
   "source": [
    "df = type_map['unsolved']\n",
    "fig, ax = plt.subplots(figsize=(8, 4))\n",
    "ax.hist(df['config-distance'], 40)\n",
    "ax.set_xlabel('config distance (Nm)')\n",
    "ax.set_ylabel('#')\n",
    "ax.set_title('Unsolved config distance histogram')\n",
    "plt.show()"
   ]
  },
  {
   "cell_type": "code",
   "execution_count": null,
   "metadata": {},
   "outputs": [],
   "source": [
    "df = type_map['unsolved']\n",
    "x = df['config-distance']\n",
    "fig, ax = plt.subplots(figsize=(8, 4))\n",
    "ax.hist(x, len(x), density=True, cumulative=True)\n",
    "ax.set_xlabel('config distance (Nm)')\n",
    "ax.set_ylabel('#')\n",
    "ax.set_title('Unsolved config distance CDF')\n",
    "plt.show()"
   ]
  },
  {
   "cell_type": "markdown",
   "metadata": {},
   "source": [
    "# Concluding Remarks\n",
    "\n",
    "We don't see any major patterns from the distribution of distances in the benchmark problems, both in the configuration space and in the tip position space.  This indicates that distance is not correlated strongly with the category.\n",
    "\n",
    "The timing has a strong correlation for configuration space distance for the trivial case (which makes total sense), but not a strong correlation for timing out or timing for solutions with RRTConnect.\n",
    "\n",
    "It is rather odd that the tip position distance for the solved problems is roughly uniformly distributed.  I don't know what to make of this.  It certainly does not have the sigmoid shape of the other CDF distributions.\n",
    "\n",
    "I think the most telling part of this analysis is the section on simple statistics and the relative frequency of the three categories.  The RRTConnect median solving time is about four to five times that of the median solving time for trivial problems.  This signifies that RRTConnect is solving most problems very fast indeed.  Furthermore, our goal of planning in 0.05 seconds will take quite a bit of work since the trivial straight line edge check already takes significantly more than that.  The minimum trivial time was 0.267 seconds, over five times our time budget.\n",
    "\n",
    "There is potential for significant improvement here.  Another way to say that is there is a lot of work to do before we can use this as a real-time teleoperation motion-planning and control system.  Some potential avenues for future improvements are\n",
    "\n",
    "- Simpler shape prediction models (with hopefully guaranteed error bounds)\n",
    "- Simpler models for collision detection\n",
    "- Better approach to edge collision checking in motion planning\n",
    "- Precomputations with motion planning and shape computation\n",
    "- Precomputations with the environment mesh"
   ]
  }
 ],
 "metadata": {
  "kernelspec": {
   "display_name": "Python 3",
   "language": "python",
   "name": "python3"
  },
  "language_info": {
   "codemirror_mode": {
    "name": "ipython",
    "version": 3
   },
   "file_extension": ".py",
   "mimetype": "text/x-python",
   "name": "python",
   "nbconvert_exporter": "python",
   "pygments_lexer": "ipython3",
   "version": "3.8.5"
  }
 },
 "nbformat": 4,
 "nbformat_minor": 4
}
